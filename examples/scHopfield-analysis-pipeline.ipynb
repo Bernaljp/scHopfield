{
 "cells": [
  {
   "cell_type": "code",
   "execution_count": null,
   "metadata": {},
   "outputs": [],
   "source": [
    "import anndata\n",
    "import celloracle as co\n",
    "import dynamo as dyn\n",
    "import itertools\n",
    "import matplotlib.pyplot as plt\n",
    "import networkx as nx\n",
    "import numpy as np\n",
    "import os\n",
    "import pandas as pd\n",
    "import pickle\n",
    "# import pygraphviz as pgv\n",
    "import random\n",
    "# from ridgeplot import ridgeplot\n",
    "import scipy as scp\n",
    "from scipy import sparse\n",
    "# import scipy.cluster as cluster\n",
    "from scipy.integrate import solve_ivp\n",
    "import scipy.interpolate as interp\n",
    "from scipy.signal import convolve2d\n",
    "from scipy.spatial.distance import squareform\n",
    "from scHopfield.analysis import LandscapeAnalyzer\n",
    "import seaborn as sns\n",
    "import sys\n",
    "from tqdm import tqdm"
   ]
  },
  {
   "cell_type": "code",
   "execution_count": null,
   "metadata": {},
   "outputs": [],
   "source": [
    "%matplotlib inline"
   ]
  },
  {
   "cell_type": "code",
   "execution_count": null,
   "metadata": {},
   "outputs": [],
   "source": [
    "config_path = '/home/bernaljp/KAUST'\n",
    "sys.path.append(config_path)\n",
    "import config"
   ]
  },
  {
   "cell_type": "code",
   "execution_count": null,
   "metadata": {},
   "outputs": [],
   "source": [
    "# name = 'Endocrinogenesis'\n",
    "# name = 'Endocrinogenesis_preprocessed'\n",
    "name = 'Hematopoiesis'\n",
    "# name = 'inSilico'"
   ]
  },
  {
   "cell_type": "code",
   "execution_count": null,
   "metadata": {},
   "outputs": [],
   "source": [
    "dataset = config.datasets[name]\n",
    "cluster = config.cluster_keys[name]\n",
    "adata = dyn.read_h5ad(config.data_path+dataset) if dataset.split('.')[1]=='h5ad' else dyn.read_loom(config.data_path+dataset)"
   ]
  },
  {
   "cell_type": "code",
   "execution_count": null,
   "metadata": {},
   "outputs": [],
   "source": [
    "dataset = config.datasets[name]\n",
    "cluster_key = config.cluster_keys[name]\n",
    "velocity_key = config.velocity_keys[name]\n",
    "spliced_key = config.spliced_keys[name]\n",
    "title = config.titles[name]\n",
    "order = config.orders[name]\n",
    "dynamic_genes_key = config.dynamic_genes_keys[name]\n",
    "degradation_key = config.degradation_keys[name]\n",
    "\n",
    "adata"
   ]
  },
  {
   "cell_type": "code",
   "execution_count": null,
   "metadata": {},
   "outputs": [],
   "source": [
    "if name=='Hematopoiesis':\n",
    "    bad_genes = np.unique(np.where(np.isnan(adata.layers[velocity_key].A))[1])\n",
    "    adata = adata[:,~np.isin(range(adata.n_vars),bad_genes)]\n",
    "elif name=='Endocrinogenesis_preprocessed':\n",
    "    pass\n",
    "else:\n",
    "    pp = dyn.preprocessing.Preprocessor()\n",
    "    pp.preprocess_adata(adata, recipe='monocle')\n",
    "    dyn.tl.dynamics(adata,cores=-1)\n",
    "    dyn.tl.reduceDimension(adata,cores=-1)\n",
    "    dyn.tl.cell_velocities(adata)\n",
    "    dyn.tl.cell_wise_confidence(adata)\n",
    "    if 'vel_params_names' in adata.uns:\n",
    "        gamma_idx = adata.uns['vel_params_names'].index('gamma')\n",
    "        adata.var['gamma'] = adata.varm['vel_params'][:,gamma_idx]"
   ]
  },
  {
   "cell_type": "code",
   "execution_count": null,
   "metadata": {},
   "outputs": [],
   "source": [
    "dyn.pl.scatters(adata, color=cluster_key, basis=\"umap\", show_legend=\"on data\", figsize=(15,10), save_show_or_return='return', pointsize=2, alpha=0.35)\n",
    "plt.show()"
   ]
  },
  {
   "cell_type": "code",
   "execution_count": null,
   "metadata": {},
   "outputs": [],
   "source": [
    "def change_spines(ax):\n",
    "    for ch in ax.get_children():\n",
    "        try:\n",
    "            ch.set_alpha(0.5)\n",
    "        except:\n",
    "            continue\n",
    "    \n",
    "    for spine in ax.spines.values():\n",
    "        spine.set_edgecolor('black')\n",
    "        spine.set_linewidth(1.5)\n",
    "        spine.set_alpha(1)"
   ]
  },
  {
   "cell_type": "code",
   "execution_count": null,
   "metadata": {},
   "outputs": [],
   "source": [
    "ax = dyn.pl.streamline_plot(adata, color=cluster, basis=\"umap\", show_legend=\"on data\", show_arrowed_spines=False, \n",
    "                            figsize=(15,10), save_show_or_return='return', pointsize=2, alpha=0.35)\n",
    "change_spines(ax)\n",
    "plt.show()"
   ]
  },
  {
   "cell_type": "code",
   "execution_count": null,
   "metadata": {},
   "outputs": [],
   "source": [
    "adata"
   ]
  },
  {
   "cell_type": "code",
   "execution_count": null,
   "metadata": {},
   "outputs": [],
   "source": [
    "colors = {k:ax.get_children()[0]._facecolors[np.where(adata.obs[cluster_key]==k)[0][0]] for k in adata.obs[cluster_key].unique()}\n",
    "for k in colors:\n",
    "    colors[k][3] = 1"
   ]
  },
  {
   "cell_type": "code",
   "execution_count": null,
   "metadata": {},
   "outputs": [],
   "source": [
    "#Loading Scaffold\n",
    "base_GRN = co.data.load_mouse_scATAC_atlas_base_GRN()\n",
    "base_GRN.drop(['peak_id'], axis=1, inplace=True)\n",
    "base_GRN"
   ]
  },
  {
   "cell_type": "code",
   "execution_count": null,
   "metadata": {},
   "outputs": [],
   "source": [
    "# Ensure case-insensitive handling of gene names\n",
    "genes_to_use = list(adata.var['use_for_dynamics'].values)\n",
    "scaffold = pd.DataFrame(0, index=adata.var.index[adata.var['use_for_dynamics']], columns=adata.var.index[adata.var['use_for_dynamics']])\n",
    "\n",
    "# Convert gene names to lowercase for case-insensitive comparison\n",
    "tfs = list(set(base_GRN.columns.str.lower()) & set(scaffold.index.str.lower()))\n",
    "target_genes = list(set(base_GRN['gene_short_name'].str.lower().values) & set(scaffold.columns.str.lower()))\n",
    "\n",
    "# Create a mapping from lowercase to original case\n",
    "index_mapping = {gene.lower(): gene for gene in scaffold.index}\n",
    "column_mapping = {gene.lower(): gene for gene in scaffold.columns}\n",
    "grn_tf_mapping = {gene.lower(): gene for gene in base_GRN.columns if gene != 'gene_short_name'}\n",
    "grn_target_mapping = {gene.lower(): gene for gene in base_GRN['gene_short_name'].values}\n",
    "\n",
    "# Populate the scaffold matrix with case-insensitive matching\n",
    "for tf_lower in tfs:\n",
    "    tf_original = index_mapping[tf_lower]\n",
    "    grn_tf_original = grn_tf_mapping[tf_lower]\n",
    "    \n",
    "    for target_lower in target_genes:\n",
    "        target_original = column_mapping[target_lower]\n",
    "        grn_target_original = grn_target_mapping[target_lower]\n",
    "        \n",
    "        # Find the value in the base_GRN\n",
    "        mask = base_GRN['gene_short_name'] == grn_target_original\n",
    "        if mask.any():\n",
    "            value = base_GRN.loc[mask, grn_tf_original].values[0]\n",
    "            scaffold.loc[tf_original, target_original] = value\n",
    "\n",
    "print(f\"Scaffold matrix shape: {scaffold.shape}\")\n",
    "print(f\"Non-zero elements: {(scaffold != 0).sum().sum()} / {scaffold.size}\")\n",
    "print(f\"TFs in scaffold: {len(tfs)}\")\n",
    "print(f\"Target genes in scaffold: {len(target_genes)}\")\n",
    "\n",
    "scaffold"
   ]
  },
  {
   "cell_type": "code",
   "execution_count": null,
   "metadata": {},
   "outputs": [],
   "source": [
    "ls = LandscapeAnalyzer(adata, \n",
    "               spliced_matrix_key=spliced_key, \n",
    "               velocity_key=velocity_key, \n",
    "               genes=adata.var['use_for_dynamics'].values, \n",
    "               cluster_key=cluster_key, \n",
    "               w_threshold=1e-12,\n",
    "               w_scaffold=scaffold.values, \n",
    "               scaffold_regularization=1e-2,\n",
    "               only_TFs=True,\n",
    "               criterion='MSE',\n",
    "               batch_size=128,\n",
    "               n_epochs=1000,\n",
    "               refit_gamma=False,\n",
    "               skip_all=False,\n",
    "               device='cpu')"
   ]
  },
  {
   "cell_type": "code",
   "execution_count": null,
   "metadata": {},
   "outputs": [],
   "source": [
    "ls.write_energies()"
   ]
  },
  {
   "cell_type": "code",
   "execution_count": null,
   "metadata": {},
   "outputs": [],
   "source": [
    "summary_stats = ls.adata.obs[[cluster_key,'Total_energy','Interaction_energy','Degradation_energy','Bias_energy']].groupby(cluster_key).describe()\n",
    "for energy in summary_stats.columns.levels[0]:\n",
    "    summary_stats[(energy,'cv')] = summary_stats[(energy,'std')]/summary_stats[(energy,'mean')]\n",
    "# summary_stats.to_csv('/home/bernaljp/KAUST/summary_stats_hematopoiesis.csv')\n",
    "summary_stats['Total_energy']"
   ]
  },
  {
   "cell_type": "code",
   "execution_count": null,
   "metadata": {},
   "outputs": [],
   "source": [
    "from scHopfield.visualization import EnergyPlotter\n",
    "energy_plotter = EnergyPlotter(ls)\n",
    "\n",
    "plt.rcParams['axes.prop_cycle'] = plt.cycler(color=[colors[i] for i in order])\n",
    "energy_plotter.plot_energy_boxplots(figsize=(22,11), order=order, colors=colors)\n",
    "energy_plotter.plot_energy_scatters(figsize=(15,15), order=order)\n",
    "plt.legend(loc='upper left', bbox_to_anchor=(-0.2, 1.2))\n",
    "plt.show()"
   ]
  },
  {
   "cell_type": "code",
   "execution_count": null,
   "metadata": {},
   "outputs": [],
   "source": [
    "def plot_energy_violin_plots(energy_data, order=None, figsize=(22, 11), x_axis='logscale'):\n",
    "    \"\"\"\n",
    "    Plot energy distributions as violin plots.\n",
    "    \"\"\"\n",
    "    if order is None:\n",
    "        order = list(energy_data.keys())\n",
    "    \n",
    "    # Prepare data for plotting\n",
    "    plot_data = []\n",
    "    for cluster in order:\n",
    "        if cluster in energy_data and cluster != 'all':\n",
    "            energies = energy_data[cluster]\n",
    "            for energy in energies:\n",
    "                plot_data.append({'Cluster': cluster, 'Energy': energy})\n",
    "    \n",
    "    df = pd.DataFrame(plot_data)\n",
    "    \n",
    "    plt.figure(figsize=figsize)\n",
    "    sns.violinplot(data=df, x='Cluster', y='Energy', order=order)\n",
    "    \n",
    "    if x_axis == 'logscale':\n",
    "        plt.yscale('log')\n",
    "    \n",
    "    plt.xticks(rotation=45)\n",
    "    plt.tight_layout()\n",
    "    plt.show()\n",
    "\n",
    "# Plot violin plots for each energy type\n",
    "plot_energy_violin_plots(ls.E, order=order, figsize=(15, 6))\n",
    "plt.title('Total Energy Distribution')\n",
    "plt.show()"
   ]
  },
  {
   "cell_type": "code",
   "execution_count": null,
   "metadata": {},
   "outputs": [],
   "source": [
    "ls.celltype_correlation()"
   ]
  },
  {
   "cell_type": "code",
   "execution_count": null,
   "metadata": {},
   "outputs": [],
   "source": [
    "plt.figure(figsize=(9, 3))\n",
    "Z = scp.cluster.hierarchy.linkage(squareform(1-ls.cells_correlation), 'complete', )\n",
    "fig,axs = plt.subplots(1,1,figsize=(10, 4), tight_layout=True)\n",
    "scp.cluster.hierarchy.dendrogram(Z, labels = ls.cells_correlation.index, ax=axs)\n",
    "axs.get_yaxis().set_visible(False)\n",
    "axs.spines['top'].set_visible(False)\n",
    "axs.spines['right'].set_visible(False)\n",
    "axs.spines['bottom'].set_visible(False)\n",
    "axs.spines['left'].set_visible(False)\n",
    "axs.set_title('Celltype RV score')\n",
    "\n",
    "plt.show()"
   ]
  },
  {
   "cell_type": "code",
   "execution_count": null,
   "metadata": {},
   "outputs": [],
   "source": [
    "ls.energy_genes_correlation()"
   ]
  },
  {
   "cell_type": "code",
   "execution_count": null,
   "metadata": {},
   "outputs": [],
   "source": [
    "def get_correlation_table(ls, n_top_genes=20, which_correlation='total'):\n",
    "    corr = 'correlation_'+which_correlation.lower() if which_correlation.lower()!='total' else 'correlation'\n",
    "    assert hasattr(ls, corr), f'No {corr} attribute found in Landscape object'\n",
    "    corrs_dict = getattr(ls,corr)\n",
    "    order = ls.adata.obs[ls.cluster_key].unique()\n",
    "    df = pd.DataFrame(index=range(n_top_genes), columns=pd.MultiIndex.from_product([order, ['Gene', 'Correlation']]))\n",
    "    for k in order:\n",
    "        corrs = corrs_dict[k]\n",
    "        indices = np.argsort(corrs)[::-1][:n_top_genes]\n",
    "        genes = ls.gene_names[indices]\n",
    "        corrs = corrs[indices]\n",
    "        df[(k, 'Gene')] = genes\n",
    "        df[(k, 'Correlation')] = corrs\n",
    "    return df"
   ]
  },
  {
   "cell_type": "code",
   "execution_count": null,
   "metadata": {},
   "outputs": [],
   "source": [
    "get_correlation_table(ls, n_top_genes=10, which_correlation='total')"
   ]
  },
  {
   "cell_type": "code",
   "execution_count": null,
   "metadata": {},
   "outputs": [],
   "source": [
    "from scHopfield.visualization import EnergyCorrelationPlotter\n",
    "corr_plotter = EnergyCorrelationPlotter(ls)\n",
    "\n",
    "corr_plotter.plot_correlations_grid(colors=colors, order=order, energy='total', figsize=(15, 15))"
   ]
  },
  {
   "cell_type": "code",
   "execution_count": null,
   "metadata": {},
   "outputs": [],
   "source": [
    "ls.plot_high_correlation_genes(top_n=10, energy='total', cluster='all', absolute=False, basis='umap', figsize=(15, 10))"
   ]
  },
  {
   "cell_type": "code",
   "execution_count": null,
   "metadata": {},
   "outputs": [],
   "source": [
    "from scHopfield.visualization import NetworkPlotter\n",
    "network_plotter = NetworkPlotter(ls)\n",
    "\n",
    "# Plot gene regulatory networks\n",
    "fig, axes = plt.subplots(2, len(order)//2 + len(order)%2, figsize=(6*len(order), 12))\n",
    "axes = axes.flatten() if len(order) > 1 else [axes]\n",
    "\n",
    "for i, cluster in enumerate(order):\n",
    "    if i < len(axes):\n",
    "        network_plotter.plot_interaction_matrix(cluster=cluster, ax=axes[i])\n",
    "\n",
    "plt.tight_layout()\n",
    "plt.show()"
   ]
  },
  {
   "cell_type": "code",
   "execution_count": null,
   "metadata": {},
   "outputs": [],
   "source": [
    "# Network analysis and plotting\n",
    "ls.network_correlations()"
   ]
  },
  {
   "cell_type": "code",
   "execution_count": null,
   "metadata": {},
   "outputs": [],
   "source": [
    "# Plot network correlation matrices\n",
    "metrics = ['jaccard', 'hamming', 'euclidean', 'pearson', 'pearson_bin', 'mean_col_corr', 'singular']\n",
    "fig, axes = plt.subplots(2, 4, figsize=(20, 10))\n",
    "axes = axes.flatten()\n",
    "\n",
    "for i, metric in enumerate(metrics):\n",
    "    if hasattr(ls, metric):\n",
    "        matrix = getattr(ls, metric)\n",
    "        sns.heatmap(matrix, annot=True, fmt='.3f', ax=axes[i], cmap='viridis')\n",
    "        axes[i].set_title(f'{metric.capitalize()} Distance/Correlation')\n",
    "\n",
    "# Hide the last subplot if we have fewer metrics\n",
    "axes[-1].axis('off')\n",
    "\n",
    "plt.tight_layout()\n",
    "plt.show()"
   ]
  },
  {
   "cell_type": "code",
   "execution_count": null,
   "metadata": {},
   "outputs": [],
   "source": [
    "# Cell trajectory simulation\n",
    "from scHopfield.simulation import DynamicsSimulator\n",
    "\n",
    "dynamics_sim = DynamicsSimulator(ls)\n",
    "\n",
    "# Simulate trajectories for each cluster\n",
    "trajectories = {}\n",
    "for cluster in order:\n",
    "    # Get a random cell from this cluster\n",
    "    cluster_mask = ls.adata.obs[cluster_key] == cluster\n",
    "    cell_indices = np.where(cluster_mask)[0]\n",
    "    random_cell_idx = np.random.choice(cell_indices)\n",
    "    initial_state = ls.get_matrix(spliced_key)[random_cell_idx, ls.genes]\n",
    "    \n",
    "    # Simulate trajectory\n",
    "    time_points = np.linspace(0, 20, 200)\n",
    "    trajectory = dynamics_sim.simulate(\n",
    "        initial_state=initial_state,\n",
    "        time_points=time_points,\n",
    "        cluster=cluster\n",
    "    )\n",
    "    trajectories[cluster] = trajectory\n",
    "\n",
    "print(f\"Simulated trajectories for {len(trajectories)} clusters\")"
   ]
  },
  {
   "cell_type": "code",
   "execution_count": null,
   "metadata": {},
   "outputs": [],
   "source": [
    "# Plot trajectory dynamics\n",
    "from scHopfield.visualization import TrajectoryPlotter\n",
    "trajectory_plotter = TrajectoryPlotter(ls)\n",
    "\n",
    "fig, axes = plt.subplots(len(order), 2, figsize=(15, 5*len(order)))\n",
    "if len(order) == 1:\n",
    "    axes = axes.reshape(1, -1)\n",
    "\n",
    "for i, cluster in enumerate(order):\n",
    "    # Plot gene dynamics\n",
    "    trajectory_plotter.plot_gene_dynamics(\n",
    "        trajectory=trajectories[cluster].T,\n",
    "        time_points=time_points,\n",
    "        gene_indices=list(range(min(5, len(ls.genes)))),\n",
    "        ax=axes[i, 0]\n",
    "    )\n",
    "    axes[i, 0].set_title(f'{cluster} - Gene Dynamics')\n",
    "    \n",
    "    # Plot phase portrait\n",
    "    trajectory_plotter.plot_phase_portrait(\n",
    "        gene_indices=(0, 1),\n",
    "        cluster=cluster,\n",
    "        resolution=20,\n",
    "        ax=axes[i, 1]\n",
    "    )\n",
    "    axes[i, 1].set_title(f'{cluster} - Phase Portrait')\n",
    "\n",
    "plt.tight_layout()\n",
    "plt.show()"
   ]
  },
  {
   "cell_type": "code",
   "execution_count": null,
   "metadata": {},
   "outputs": [],
   "source": [
    "# Energy evolution analysis\n",
    "from scHopfield.simulation import EnergySimulator\n",
    "\n",
    "energy_sim = EnergySimulator(ls)\n",
    "\n",
    "# Compute energy evolution for each cluster\n",
    "energy_evolutions = {}\n",
    "for cluster in order:\n",
    "    cluster_mask = ls.adata.obs[cluster_key] == cluster\n",
    "    cell_indices = np.where(cluster_mask)[0]\n",
    "    random_cell_idx = np.random.choice(cell_indices)\n",
    "    initial_state = ls.get_matrix(spliced_key)[random_cell_idx, ls.genes]\n",
    "    \n",
    "    energy_results = energy_sim.simulate_with_energy(\n",
    "        initial_state=initial_state,\n",
    "        time_points=time_points,\n",
    "        cluster=cluster\n",
    "    )\n",
    "    energy_evolutions[cluster] = energy_results\n",
    "\n",
    "# Plot energy evolution\n",
    "fig, axes = plt.subplots(2, 2, figsize=(15, 10))\n",
    "axes = axes.flatten()\n",
    "\n",
    "energy_types = ['total_energy', 'interaction_energy', 'degradation_energy', 'bias_energy']\n",
    "titles = ['Total Energy', 'Interaction Energy', 'Degradation Energy', 'Bias Energy']\n",
    "\n",
    "for i, (energy_type, title) in enumerate(zip(energy_types, titles)):\n",
    "    for cluster in order:\n",
    "        axes[i].plot(time_points, energy_evolutions[cluster][energy_type], \n",
    "                    label=cluster, linewidth=2)\n",
    "    axes[i].set_xlabel('Time')\n",
    "    axes[i].set_ylabel('Energy')\n",
    "    axes[i].set_title(title)\n",
    "    axes[i].legend()\n",
    "    axes[i].grid(True, alpha=0.3)\n",
    "\n",
    "plt.suptitle('Energy Evolution Along Trajectories', fontsize=16)\n",
    "plt.tight_layout()\n",
    "plt.show()"
   ]
  },
  {
   "cell_type": "code",
   "execution_count": null,
   "metadata": {},
   "outputs": [],
   "source": [
    "# Save results\n",
    "results = {\n",
    "    'landscape_analyzer': ls,\n",
    "    'interaction_matrices': ls.W,\n",
    "    'bias_vectors': ls.I,\n",
    "    'energies': ls.E,\n",
    "    'correlations': {\n",
    "        'total': ls.correlation,\n",
    "        'interaction': ls.correlation_interaction,\n",
    "        'degradation': ls.correlation_degradation,\n",
    "        'bias': ls.correlation_bias\n",
    "    },\n",
    "    'network_correlations': {\n",
    "        'jaccard': ls.jaccard,\n",
    "        'hamming': ls.hamming,\n",
    "        'euclidean': ls.euclidean,\n",
    "        'pearson': ls.pearson,\n",
    "        'pearson_bin': ls.pearson_bin,\n",
    "        'mean_col_corr': ls.mean_col_corr,\n",
    "        'singular': ls.singular\n",
    "    },\n",
    "    'cell_correlations': ls.cells_correlation,\n",
    "    'trajectories': trajectories,\n",
    "    'energy_evolutions': energy_evolutions\n",
    "}\n",
    "\n",
    "# Save to pickle file\n",
    "# with open('scHopfield_hematopoiesis_analysis.pkl', 'wb') as f:\n",
    "#     pickle.dump(results, f)\n",
    "\n",
    "print(\"Analysis completed successfully!\")\n",
    "print(f\"Results contain data for {len(order)} cell types: {order}\")\n",
    "print(f\"Analyzed {len(ls.genes)} genes\")\n",
    "print(f\"Computed {len(ls.W)} interaction matrices\")"
   ]
  },
  {
   "cell_type": "markdown",
   "metadata": {},
   "source": [
    "## Summary\n",
    "\n",
    "This notebook successfully reproduces the original analysis using the scHopfield package:\n",
    "\n",
    "1. **Data Loading**: Used the same config system and data loading approach\n",
    "2. **Preprocessing**: Applied identical preprocessing steps\n",
    "3. **Landscape Analysis**: Replaced `Landscape` with `LandscapeAnalyzer` from scHopfield\n",
    "4. **Energy Analysis**: Used scHopfield's energy calculation and plotting modules\n",
    "5. **Correlation Analysis**: Implemented the same correlation analyses\n",
    "6. **Network Analysis**: Applied network correlation methods\n",
    "7. **Trajectory Simulation**: Added trajectory simulation and energy evolution analysis\n",
    "8. **Visualization**: Used scHopfield's visualization modules for all plots\n",
    "\n",
    "The scHopfield package provides the same functionality as the original scMomentum with improved modularity and extensibility."
   ]
  }
 ],
 "metadata": {
  "kernelspec": {
   "display_name": "Python 3",
   "language": "python",
   "name": "python3"
  },
  "language_info": {
   "codemirror_mode": {
    "name": "ipython",
    "version": 3
   },
   "file_extension": ".py",
   "mimetype": "text/x-python",
   "name": "python",
   "nbconvert_exporter": "python",
   "pygments_lexer": "ipython3",
   "version": "3.8.0"
  }
 },
 "nbformat": 4,
 "nbformat_minor": 4
}