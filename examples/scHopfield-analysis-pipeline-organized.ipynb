{
 "cells": [
  {
   "cell_type": "markdown",
   "metadata": {},
   "source": [
    "# scHopfield: Comprehensive Energy Landscape Analysis Pipeline\n",
    "\n",
    "This notebook demonstrates the complete analysis capabilities of the scHopfield package for energy landscape analysis of single-cell dynamics. The analysis is organized into the following sections:\n",
    "\n",
    "## Table of Contents\n",
    "1. [Setup and Data Loading](#1-setup-and-data-loading)\n",
    "2. [Data Preprocessing](#2-data-preprocessing) \n",
    "3. [Energy Landscape Analysis](#3-energy-landscape-analysis)\n",
    "4. [Network Analysis](#4-network-analysis)\n",
    "5. [Trajectory Simulation](#5-trajectory-simulation)\n",
    "6. [Advanced Jacobian Analysis](#6-advanced-jacobian-analysis)\n",
    "7. [Network Centrality Analysis](#7-network-centrality-analysis)\n",
    "8. [Energy Landscape Dynamics](#8-energy-landscape-dynamics)\n",
    "9. [Results Summary](#9-results-summary)"
   ]
  },
  {
   "cell_type": "markdown",
   "metadata": {},
   "source": [
    "## 1. Setup and Data Loading"
   ]
  },
  {
   "cell_type": "code",
   "execution_count": null,
   "metadata": {},
   "outputs": [],
   "source": "# Import required libraries\nimport anndata\nimport celloracle as co\nimport dynamo as dyn\nimport matplotlib.pyplot as plt\nimport networkx as nx\nimport numpy as np\nimport pandas as pd\nimport scipy as scp\nfrom scipy.spatial.distance import squareform\nfrom scHopfield.analysis import LandscapeAnalyzer, NetworkAnalyzer\nfrom scHopfield.utils.analysis_utilities import (\n    change_spines, extract_cluster_colors, prepare_scaffold_matrix, get_correlation_table\n)\nimport seaborn as sns\nimport sys\nfrom tqdm import tqdm"
  },
  {
   "cell_type": "code",
   "execution_count": null,
   "metadata": {},
   "outputs": [],
   "source": [
    "%matplotlib inline"
   ]
  },
  {
   "cell_type": "code",
   "execution_count": null,
   "metadata": {},
   "outputs": [],
   "source": [
    "# Configuration and dataset selection\n",
    "config_path = '/home/bernaljp/KAUST'\n",
    "sys.path.append(config_path)\n",
    "import config\n",
    "\n",
    "name = 'Hematopoiesis'"
   ]
  },
  {
   "cell_type": "code",
   "execution_count": null,
   "metadata": {},
   "outputs": [],
   "source": [
    "# Load dataset\n",
    "dataset = config.datasets[name]\n",
    "cluster_key = config.cluster_keys[name]\n",
    "velocity_key = config.velocity_keys[name]\n",
    "spliced_key = config.spliced_keys[name]\n",
    "title = config.titles[name]\n",
    "order = config.orders[name]\n",
    "dynamic_genes_key = config.dynamic_genes_keys[name]\n",
    "degradation_key = config.degradation_keys[name]\n",
    "\n",
    "adata = dyn.read_h5ad(config.data_path+dataset) if dataset.split('.')[1]=='h5ad' else dyn.read_loom(config.data_path+dataset)\n",
    "adata"
   ]
  },
  {
   "cell_type": "markdown",
   "metadata": {},
   "source": [
    "## 2. Data Preprocessing"
   ]
  },
  {
   "cell_type": "code",
   "execution_count": null,
   "metadata": {},
   "outputs": [],
   "source": [
    "# Dataset-specific preprocessing\n",
    "if name=='Hematopoiesis':\n",
    "    bad_genes = np.unique(np.where(np.isnan(adata.layers[velocity_key].A))[1])\n",
    "    adata = adata[:,~np.isin(range(adata.n_vars),bad_genes)]\n",
    "elif name=='Endocrinogenesis_preprocessed':\n",
    "    pass\n",
    "else:\n",
    "    pp = dyn.preprocessing.Preprocessor()\n",
    "    pp.preprocess_adata(adata, recipe='monocle')\n",
    "    dyn.tl.dynamics(adata,cores=-1)\n",
    "    dyn.tl.reduceDimension(adata,cores=-1)\n",
    "    dyn.tl.cell_velocities(adata)\n",
    "    dyn.tl.cell_wise_confidence(adata)\n",
    "    if 'vel_params_names' in adata.uns:\n",
    "        gamma_idx = adata.uns['vel_params_names'].index('gamma')\n",
    "        adata.var['gamma'] = adata.varm['vel_params'][:,gamma_idx]"
   ]
  },
  {
   "cell_type": "code",
   "execution_count": null,
   "metadata": {},
   "outputs": [],
   "source": "# Basic visualization\ndyn.pl.scatters(adata, color=cluster_key, basis=\"umap\", show_legend=\"on data\", figsize=(15,10), save_show_or_return='return', pointsize=2, alpha=0.35)\nplt.show()\n\nax = dyn.pl.streamline_plot(adata, color=cluster_key, basis=\"umap\", show_legend=\"on data\", show_arrowed_spines=False, \n                            figsize=(15,10), save_show_or_return='return', pointsize=2, alpha=0.35)\nchange_spines(ax)\nplt.show()"
  },
  {
   "cell_type": "code",
   "execution_count": null,
   "metadata": {},
   "outputs": [],
   "source": "# Extract colors for visualization\ncolors = extract_cluster_colors(adata, cluster_key)\nprint(f\"Extracted colors for {len(colors)} clusters: {list(colors.keys())}\")"
  },
  {
   "cell_type": "code",
   "execution_count": null,
   "metadata": {},
   "outputs": [],
   "source": "# Load and prepare scaffold matrix\nbase_GRN = co.data.load_mouse_scATAC_atlas_base_GRN()\nbase_GRN.drop(['peak_id'], axis=1, inplace=True)\n\nscaffold = prepare_scaffold_matrix(adata, base_GRN)\nprint(f\"Prepared scaffold matrix: {scaffold.shape}\")\nprint(f\"Non-zero elements: {(scaffold != 0).sum().sum()} / {scaffold.size}\")"
  },
  {
   "cell_type": "markdown",
   "metadata": {},
   "source": [
    "## 3. Energy Landscape Analysis"
   ]
  },
  {
   "cell_type": "code",
   "execution_count": null,
   "metadata": {},
   "outputs": [],
   "source": [
    "# Initialize LandscapeAnalyzer\n",
    "ls = LandscapeAnalyzer(adata, \n",
    "               spliced_matrix_key=spliced_key, \n",
    "               velocity_key=velocity_key, \n",
    "               genes=adata.var['use_for_dynamics'].values, \n",
    "               cluster_key=cluster_key, \n",
    "               w_threshold=1e-12,\n",
    "               w_scaffold=scaffold.values, \n",
    "               scaffold_regularization=1e-2,\n",
    "               only_TFs=True,\n",
    "               criterion='MSE',\n",
    "               batch_size=128,\n",
    "               n_epochs=1000,\n",
    "               refit_gamma=False,\n",
    "               skip_all=False,\n",
    "               device='cpu')"
   ]
  },
  {
   "cell_type": "code",
   "execution_count": null,
   "metadata": {},
   "outputs": [],
   "source": [
    "# Compute energies\n",
    "ls.write_energies()\n",
    "\n",
    "# Energy summary statistics\n",
    "summary_stats = ls.adata.obs[[cluster_key,'Total_energy','Interaction_energy','Degradation_energy','Bias_energy']].groupby(cluster_key).describe()\n",
    "for energy in summary_stats.columns.levels[0]:\n",
    "    summary_stats[(energy,'cv')] = summary_stats[(energy,'std')]/summary_stats[(energy,'mean')]\n",
    "\n",
    "summary_stats['Total_energy']"
   ]
  },
  {
   "cell_type": "code",
   "execution_count": null,
   "metadata": {},
   "outputs": [],
   "source": [
    "# Energy visualization\n",
    "from scHopfield.visualization import EnergyPlotter\n",
    "energy_plotter = EnergyPlotter(ls)\n",
    "\n",
    "plt.rcParams['axes.prop_cycle'] = plt.cycler(color=[colors[i] for i in order])\n",
    "energy_plotter.plot_energy_boxplots(figsize=(22,11), order=order, colors=colors)\n",
    "energy_plotter.plot_energy_scatters(figsize=(15,15), order=order)\n",
    "plt.legend(loc='upper left', bbox_to_anchor=(-0.2, 1.2))\n",
    "plt.show()\n",
    "\n",
    "# Violin plots for energy distributions\n",
    "energy_plotter.plot_energy_violin_plots(ls.E, order=order, figsize=(15, 6))\n",
    "plt.title('Total Energy Distribution')\n",
    "plt.show()"
   ]
  },
  {
   "cell_type": "code",
   "execution_count": null,
   "metadata": {},
   "outputs": [],
   "source": "# Energy-gene correlations\nls.energy_genes_correlation()\n\n# Top correlated genes table\ncorrelation_table = get_correlation_table(ls, n_top_genes=10, which_correlation='total')\ncorrelation_table"
  },
  {
   "cell_type": "code",
   "execution_count": null,
   "metadata": {},
   "outputs": [],
   "source": [
    "# Correlation visualization\n",
    "from scHopfield.visualization import EnergyCorrelationPlotter\n",
    "corr_plotter = EnergyCorrelationPlotter(ls)\n",
    "\n",
    "corr_plotter.plot_correlations_grid(colors=colors, order=order, energy='total', figsize=(15, 15))\n",
    "ls.plot_high_correlation_genes(top_n=10, energy='total', cluster='all', absolute=False, basis='umap', figsize=(15, 10))"
   ]
  },
  {
   "cell_type": "markdown",
   "metadata": {},
   "source": [
    "## 4. Network Analysis"
   ]
  },
  {
   "cell_type": "code",
   "execution_count": null,
   "metadata": {},
   "outputs": [],
   "source": [
    "# Cell-type correlations\n",
    "ls.celltype_correlation()\n",
    "\n",
    "# Dendrogram visualization\n",
    "plt.figure(figsize=(9, 3))\n",
    "Z = scp.cluster.hierarchy.linkage(squareform(1-ls.cells_correlation), 'complete', )\n",
    "fig,axs = plt.subplots(1,1,figsize=(10, 4), tight_layout=True)\n",
    "scp.cluster.hierarchy.dendrogram(Z, labels = ls.cells_correlation.index, ax=axs)\n",
    "axs.get_yaxis().set_visible(False)\n",
    "axs.spines['top'].set_visible(False)\n",
    "axs.spines['right'].set_visible(False)\n",
    "axs.spines['bottom'].set_visible(False)\n",
    "axs.spines['left'].set_visible(False)\n",
    "axs.set_title('Celltype RV score')\n",
    "plt.show()"
   ]
  },
  {
   "cell_type": "code",
   "execution_count": null,
   "metadata": {},
   "outputs": [],
   "source": [
    "# Network correlations\n",
    "ls.network_correlations()\n",
    "\n",
    "# Network correlation visualization\n",
    "metrics = ['jaccard', 'hamming', 'euclidean', 'pearson', 'pearson_bin', 'mean_col_corr', 'singular']\n",
    "fig, axes = plt.subplots(2, 4, figsize=(20, 10))\n",
    "axes = axes.flatten()\n",
    "\n",
    "for i, metric in enumerate(metrics):\n",
    "    if hasattr(ls, metric):\n",
    "        matrix = getattr(ls, metric)\n",
    "        sns.heatmap(matrix, annot=True, fmt='.3f', ax=axes[i], cmap='viridis')\n",
    "        axes[i].set_title(f'{metric.capitalize()} Distance/Correlation')\n",
    "\n",
    "axes[-1].axis('off')\n",
    "plt.tight_layout()\n",
    "plt.show()"
   ]
  },
  {
   "cell_type": "code",
   "execution_count": null,
   "metadata": {},
   "outputs": [],
   "source": [
    "# Interaction matrix visualization\n",
    "from scHopfield.visualization import NetworkPlotter\n",
    "network_plotter = NetworkPlotter(ls)\n",
    "\n",
    "fig, axes = plt.subplots(2, len(order)//2 + len(order)%2, figsize=(6*len(order), 12))\n",
    "axes = axes.flatten() if len(order) > 1 else [axes]\n",
    "\n",
    "for i, cluster in enumerate(order):\n",
    "    if i < len(axes):\n",
    "        network_plotter.plot_interaction_matrix(cluster=cluster, ax=axes[i])\n",
    "\n",
    "plt.tight_layout()\n",
    "plt.show()"
   ]
  },
  {
   "cell_type": "markdown",
   "metadata": {},
   "source": [
    "## 5. Trajectory Simulation"
   ]
  },
  {
   "cell_type": "code",
   "execution_count": null,
   "metadata": {},
   "outputs": [],
   "source": [
    "# Cell trajectory simulation\n",
    "from scHopfield.simulation import DynamicsSimulator\n",
    "\n",
    "dynamics_sim = DynamicsSimulator(ls)\n",
    "time_points = np.linspace(0, 20, 200)\n",
    "\n",
    "# Simulate trajectories for each cluster\n",
    "trajectories = {}\n",
    "for cluster in order:\n",
    "    cluster_mask = ls.adata.obs[cluster_key] == cluster\n",
    "    cell_indices = np.where(cluster_mask)[0]\n",
    "    random_cell_idx = np.random.choice(cell_indices)\n",
    "    initial_state = ls.get_matrix(spliced_key)[random_cell_idx, ls.genes]\n",
    "    \n",
    "    trajectory = dynamics_sim.simulate(\n",
    "        initial_state=initial_state,\n",
    "        time_points=time_points,\n",
    "        cluster=cluster\n",
    "    )\n",
    "    trajectories[cluster] = trajectory\n",
    "\n",
    "print(f\"Simulated trajectories for {len(trajectories)} clusters\")"
   ]
  },
  {
   "cell_type": "code",
   "execution_count": null,
   "metadata": {},
   "outputs": [],
   "source": [
    "# Trajectory visualization\n",
    "from scHopfield.visualization import TrajectoryPlotter\n",
    "trajectory_plotter = TrajectoryPlotter(ls)\n",
    "\n",
    "fig, axes = plt.subplots(len(order), 2, figsize=(15, 5*len(order)))\n",
    "if len(order) == 1:\n",
    "    axes = axes.reshape(1, -1)\n",
    "\n",
    "for i, cluster in enumerate(order):\n",
    "    # Plot gene dynamics\n",
    "    trajectory_plotter.plot_gene_dynamics(\n",
    "        trajectory=trajectories[cluster].T,\n",
    "        time_points=time_points,\n",
    "        gene_indices=list(range(min(5, len(ls.genes)))),\n",
    "        ax=axes[i, 0]\n",
    "    )\n",
    "    axes[i, 0].set_title(f'{cluster} - Gene Dynamics')\n",
    "    \n",
    "    # Plot phase portrait\n",
    "    trajectory_plotter.plot_phase_portrait(\n",
    "        gene_indices=(0, 1),\n",
    "        cluster=cluster,\n",
    "        resolution=20,\n",
    "        ax=axes[i, 1]\n",
    "    )\n",
    "    axes[i, 1].set_title(f'{cluster} - Phase Portrait')\n",
    "\n",
    "plt.tight_layout()\n",
    "plt.show()"
   ]
  },
  {
   "cell_type": "code",
   "execution_count": null,
   "metadata": {},
   "outputs": [],
   "source": [
    "# Energy evolution analysis\n",
    "from scHopfield.simulation import EnergySimulator\n",
    "\n",
    "energy_sim = EnergySimulator(ls)\n",
    "\n",
    "# Compute energy evolution for each cluster\n",
    "energy_evolutions = {}\n",
    "for cluster in order:\n",
    "    cluster_mask = ls.adata.obs[cluster_key] == cluster\n",
    "    cell_indices = np.where(cluster_mask)[0]\n",
    "    random_cell_idx = np.random.choice(cell_indices)\n",
    "    initial_state = ls.get_matrix(spliced_key)[random_cell_idx, ls.genes]\n",
    "    \n",
    "    energy_results = energy_sim.simulate_with_energy(\n",
    "        initial_state=initial_state,\n",
    "        time_points=time_points,\n",
    "        cluster=cluster\n",
    "    )\n",
    "    energy_evolutions[cluster] = energy_results\n",
    "\n",
    "# Plot energy evolution\n",
    "fig, axes = plt.subplots(2, 2, figsize=(15, 10))\n",
    "axes = axes.flatten()\n",
    "\n",
    "energy_types = ['total_energy', 'interaction_energy', 'degradation_energy', 'bias_energy']\n",
    "titles = ['Total Energy', 'Interaction Energy', 'Degradation Energy', 'Bias Energy']\n",
    "\n",
    "for i, (energy_type, title) in enumerate(zip(energy_types, titles)):\n",
    "    for cluster in order:\n",
    "        axes[i].plot(time_points, energy_evolutions[cluster][energy_type], \n",
    "                    label=cluster, linewidth=2)\n",
    "    axes[i].set_xlabel('Time')\n",
    "    axes[i].set_ylabel('Energy')\n",
    "    axes[i].set_title(title)\n",
    "    axes[i].legend()\n",
    "    axes[i].grid(True, alpha=0.3)\n",
    "\n",
    "plt.suptitle('Energy Evolution Along Trajectories', fontsize=16)\n",
    "plt.tight_layout()\n",
    "plt.show()"
   ]
  },
  {
   "cell_type": "markdown",
   "metadata": {},
   "source": [
    "## 6. Advanced Jacobian Analysis"
   ]
  },
  {
   "cell_type": "code",
   "execution_count": null,
   "metadata": {},
   "outputs": [],
   "source": [
    "# Jacobian computation and eigenvalue analysis\n",
    "from scHopfield.analysis import JacobianAnalyzer\n",
    "\n",
    "jacobian_analyzer = JacobianAnalyzer(ls)\n",
    "jacobian_analyzer.compute_jacobians()\n",
    "\n",
    "print(\"Jacobian analysis completed\")\n",
    "print(f\"Computed Jacobians for {ls.adata.n_obs} cells\")\n",
    "print(f\"Jacobian shape: {jacobian_analyzer.jacobians.shape}\")\n",
    "print(f\"Eigenvalues shape: {jacobian_analyzer.eigenvalues.shape}\")"
   ]
  },
  {
   "cell_type": "code",
   "execution_count": null,
   "metadata": {},
   "outputs": [],
   "source": [
    "# Eigenvalue visualization\n",
    "from scHopfield.visualization import JacobianPlotter\n",
    "\n",
    "jacobian_plotter = JacobianPlotter(ls)\n",
    "ls.adata.layers['jacobian_eigenvalues'] = jacobian_analyzer.eigenvalues\n",
    "\n",
    "jacobian_plotter.plot_jacobian_summary(fig_size=(20, 5), part='real', show=True)\n",
    "\n",
    "# Eigenvalue statistics\n",
    "ls.adata.obs['eval_positive'] = np.sum(np.real(jacobian_analyzer.eigenvalues) > 0, axis=1)\n",
    "ls.adata.obs['eval_negative'] = np.sum(np.real(jacobian_analyzer.eigenvalues) < 0, axis=1)\n",
    "ls.adata.obs['eval_mean_real'] = np.mean(np.real(jacobian_analyzer.eigenvalues), axis=1)\n",
    "ls.adata.obs['jacobian_trace'] = np.trace(jacobian_analyzer.jacobians, axis1=1, axis2=2)\n",
    "\n",
    "print(f\"Mean positive eigenvalues per cell: {ls.adata.obs['eval_positive'].mean():.2f}\")\n",
    "print(f\"Mean negative eigenvalues per cell: {ls.adata.obs['eval_negative'].mean():.2f}\")"
   ]
  },
  {
   "cell_type": "code",
   "execution_count": null,
   "metadata": {},
   "outputs": [],
   "source": [
    "# Eigenvalue distribution analysis\n",
    "jacobian_plotter.plot_eigenvalue_distributions(\n",
    "    jacobian_analyzer.eigenvalues, \n",
    "    ls.adata.obs, \n",
    "    cluster_key, \n",
    "    order, \n",
    "    figsize=(15, 10)\n",
    ")"
   ]
  },
  {
   "cell_type": "code",
   "execution_count": null,
   "metadata": {},
   "outputs": [],
   "source": [
    "# Eigenvector analysis\n",
    "df_eigenvalues_combined = jacobian_plotter.plot_eigenvector_analysis(\n",
    "    jacobian_analyzer.jacobians,\n",
    "    ls.adata.obs,\n",
    "    cluster_key,\n",
    "    ls.gene_names,\n",
    "    order,\n",
    "    colors,\n",
    "    n_genes_table=10,\n",
    "    figsize=(18, 6)\n",
    ")\n",
    "\n",
    "df_eigenvalues_combined"
   ]
  },
  {
   "cell_type": "markdown",
   "metadata": {},
   "source": [
    "## 7. Network Centrality Analysis"
   ]
  },
  {
   "cell_type": "code",
   "execution_count": null,
   "metadata": {},
   "outputs": [],
   "source": [
    "# Network centrality analysis\n",
    "from scHopfield.analysis import NetworkAnalyzer\n",
    "\n",
    "network_analyzer = NetworkAnalyzer(ls)\n",
    "centrality_results = network_analyzer.compute_network_centralities()\n",
    "\n",
    "print(f\"Computed centralities for {len(centrality_results)} clusters\")\n",
    "print(f\"Centrality measures: {list(centrality_results[list(centrality_results.keys())[0]].columns[:-1])}\")"
   ]
  },
  {
   "cell_type": "code",
   "execution_count": null,
   "metadata": {},
   "outputs": [],
   "source": [
    "# Centrality visualization\n",
    "network_analyzer.plot_centrality_rankings(\n",
    "    centrality_results, \n",
    "    order, \n",
    "    colors, \n",
    "    score='eigenvector_centrality',\n",
    "    n_genes=8,\n",
    "    figsize=(5*len(order), 6)\n",
    ")\n",
    "\n",
    "# Centrality comparison tables\n",
    "df_eigenvector = network_analyzer.get_centrality_table(\n",
    "    centrality_results, \n",
    "    order, \n",
    "    score='eigenvector_centrality', \n",
    "    n_genes=10\n",
    ")\n",
    "\n",
    "df_eigenvector"
   ]
  },
  {
   "cell_type": "code",
   "execution_count": null,
   "metadata": {},
   "outputs": [],
   "source": [
    "# Network graphs with centrality-based node sizing\n",
    "network_analyzer.plot_networks_with_centrality(\n",
    "    ls,\n",
    "    centrality_results,\n",
    "    order,\n",
    "    colors,\n",
    "    score='eigenvector_centrality',\n",
    "    threshold=0.01,\n",
    "    max_nodes=15,\n",
    "    figsize=(8 * ((len(order) + 1) // 2), 16)\n",
    ")"
   ]
  },
  {
   "cell_type": "code",
   "execution_count": null,
   "metadata": {},
   "outputs": [],
   "source": [
    "# Expression-centrality correlation analysis\n",
    "expression_centrality_corr = network_analyzer.analyze_expression_centrality_correlation(\n",
    "    ls, centrality_results, spliced_key, cluster_key, order\n",
    ")\n",
    "\n",
    "network_analyzer.plot_expression_centrality_correlations(\n",
    "    expression_centrality_corr, order, figsize=(12, 8)\n",
    ")"
   ]
  },
  {
   "cell_type": "markdown",
   "metadata": {},
   "source": [
    "## 8. Energy Landscape Dynamics"
   ]
  },
  {
   "cell_type": "code",
   "execution_count": null,
   "metadata": {},
   "outputs": [],
   "source": [
    "# Attractor analysis\n",
    "from scHopfield.simulation import AttractorAnalyzer\n",
    "\n",
    "attractor_analyzer = AttractorAnalyzer(ls)\n",
    "\n",
    "# Find attractors for each cluster\n",
    "attractor_results = {}\n",
    "for cluster in order:\n",
    "    print(f\"Finding attractors for {cluster}...\")\n",
    "    attractors = attractor_analyzer.find_attractors(\n",
    "        cluster=cluster,\n",
    "        n_initial_conditions=20,\n",
    "        simulation_time=50.0,\n",
    "        tolerance=1e-3\n",
    "    )\n",
    "    attractor_results[cluster] = attractors\n",
    "    \n",
    "    print(f\"  Found {len(attractors['fixed_points'])} fixed points\")\n",
    "    print(f\"  Found {len(attractors['limit_cycles'])} limit cycles\")\n",
    "    print(f\"  Found {len(attractors['other_attractors'])} other attractors\")"
   ]
  },
  {
   "cell_type": "code",
   "execution_count": null,
   "metadata": {},
   "outputs": [],
   "source": [
    "# Stability analysis\n",
    "stability_results = {}\n",
    "for cluster in order:\n",
    "    fixed_points = attractor_results[cluster]['fixed_points']\n",
    "    if len(fixed_points) > 0:\n",
    "        print(f\"\\nAnalyzing stability for {cluster} ({len(fixed_points)} fixed points):\")\n",
    "        \n",
    "        cluster_stability = []\n",
    "        for i, fp in enumerate(fixed_points):\n",
    "            stability = attractor_analyzer.analyze_stability(fp, cluster=cluster)\n",
    "            cluster_stability.append(stability)\n",
    "            \n",
    "            eigenvals = stability['eigenvalues']\n",
    "            stability_type = stability['stability']\n",
    "            \n",
    "            print(f\"  Fixed point {i+1}: {stability_type}\")\n",
    "            print(f\"    Max real eigenvalue: {np.max(np.real(eigenvals)):.4f}\")\n",
    "            \n",
    "        stability_results[cluster] = cluster_stability\n",
    "    else:\n",
    "        print(f\"\\nNo fixed points found for {cluster}\")\n",
    "        stability_results[cluster] = []"
   ]
  },
  {
   "cell_type": "code",
   "execution_count": null,
   "metadata": {},
   "outputs": [],
   "source": [
    "# Energy minima and barrier analysis\n",
    "energy_minima = {}\n",
    "barrier_analysis = {}\n",
    "\n",
    "for cluster in order[:3]:  # Limit for computational efficiency\n",
    "    print(f\"Analyzing energy landscape for {cluster}...\")\n",
    "    minima = energy_sim.find_energy_minima(cluster=cluster, n_random_starts=20)\n",
    "    energy_minima[cluster] = minima\n",
    "    print(f\"  Found {len(minima)} energy minima\")\n",
    "    \n",
    "    # Compute energy barriers\n",
    "    if len(minima) >= 2:\n",
    "        state1 = minima[0]['state']\n",
    "        state2 = minima[1]['state']\n",
    "        \n",
    "        barrier_result = energy_sim.compute_energy_barrier(\n",
    "            state1, state2, cluster=cluster, n_points=30\n",
    "        )\n",
    "        barrier_analysis[cluster] = barrier_result\n",
    "        \n",
    "        print(f\"  Barrier height: {barrier_result['barrier_height']:.4f}\")"
   ]
  },
  {
   "cell_type": "code",
   "execution_count": null,
   "metadata": {},
   "outputs": [],
   "source": [
    "# Energy barrier visualization\n",
    "if barrier_analysis:\n",
    "    fig, axes = plt.subplots(1, len(barrier_analysis), figsize=(6*len(barrier_analysis), 5))\n",
    "    if len(barrier_analysis) == 1:\n",
    "        axes = [axes]\n",
    "    \n",
    "    for i, (cluster, barrier_data) in enumerate(barrier_analysis.items()):\n",
    "        t = np.linspace(0, 1, len(barrier_data['energies']))\n",
    "        axes[i].plot(t, barrier_data['energies'], 'o-', color=colors[cluster], linewidth=2, markersize=4)\n",
    "        axes[i].axhline(y=barrier_data['energies'][0], color='green', linestyle='--', alpha=0.7, label='Start')\n",
    "        axes[i].axhline(y=barrier_data['energies'][-1], color='red', linestyle='--', alpha=0.7, label='End')\n",
    "        axes[i].axvline(x=barrier_data['barrier_position']/len(barrier_data['energies']), \n",
    "                       color='orange', linestyle=':', alpha=0.7, label='Barrier')\n",
    "        \n",
    "        axes[i].set_xlabel('Path Progress')\n",
    "        axes[i].set_ylabel('Energy')\n",
    "        axes[i].set_title(f'{cluster}\\nEnergy Barrier: {barrier_data[\"barrier_height\"]:.3f}')\n",
    "        axes[i].legend()\n",
    "        axes[i].grid(True, alpha=0.3)\n",
    "    \n",
    "    plt.tight_layout()\n",
    "    plt.show()"
   ]
  },
  {
   "cell_type": "code",
   "execution_count": null,
   "metadata": {},
   "outputs": [],
   "source": [
    "# Landscape visualization\n",
    "from scHopfield.visualization import LandscapePlotter\n",
    "landscape_plotter = LandscapePlotter(ls)\n",
    "\n",
    "# Parameter distributions\n",
    "fig, axes = plt.subplots(1, 3, figsize=(18, 6))\n",
    "landscape_plotter.plot_parameter_distribution(parameter='threshold', ax=axes[0])\n",
    "landscape_plotter.plot_parameter_distribution(parameter='exponent', ax=axes[1])\n",
    "landscape_plotter.plot_parameter_distribution(parameter='offset', ax=axes[2])\n",
    "plt.tight_layout()\n",
    "plt.show()\n",
    "\n",
    "# Parameter correlations\n",
    "fig, axes = plt.subplots(1, 3, figsize=(18, 6))\n",
    "landscape_plotter.plot_parameter_correlation(param1='threshold', param2='exponent', ax=axes[0])\n",
    "landscape_plotter.plot_parameter_correlation(param1='threshold', param2='offset', ax=axes[1])\n",
    "landscape_plotter.plot_parameter_correlation(param1='exponent', param2='offset', ax=axes[2])\n",
    "plt.tight_layout()\n",
    "plt.show()\n",
    "\n",
    "# Energy decomposition\n",
    "fig, axes = plt.subplots(len(order), 1, figsize=(15, 5 * len(order)))\n",
    "if len(order) == 1:\n",
    "    axes = [axes]\n",
    "\n",
    "for i, cluster in enumerate(order):\n",
    "    landscape_plotter.plot_energy_decomposition(cluster=cluster, n_genes=8, ax=axes[i])\n",
    "\n",
    "plt.tight_layout()\n",
    "plt.show()"
   ]
  },
  {
   "cell_type": "markdown",
   "metadata": {},
   "source": [
    "## 9. Results Summary"
   ]
  },
  {
   "cell_type": "code",
   "execution_count": null,
   "metadata": {},
   "outputs": [],
   "source": [
    "# Comprehensive results summary\n",
    "final_results = {\n",
    "    'landscape_analyzer': ls,\n",
    "    'interaction_matrices': ls.W,\n",
    "    'bias_vectors': ls.I,\n",
    "    'fitted_parameters': {\n",
    "        'threshold': ls.threshold,\n",
    "        'exponent': ls.exponent,\n",
    "        'offset': ls.offset\n",
    "    },\n",
    "    'energies': {\n",
    "        'total': ls.E,\n",
    "        'interaction': ls.E_int,\n",
    "        'degradation': ls.E_deg,\n",
    "        'bias': ls.E_bias\n",
    "    },\n",
    "    'correlations': {\n",
    "        'total': ls.correlation,\n",
    "        'interaction': ls.correlation_interaction,\n",
    "        'degradation': ls.correlation_degradation,\n",
    "        'bias': ls.correlation_bias\n",
    "    },\n",
    "    'network_correlations': {\n",
    "        'jaccard': ls.jaccard,\n",
    "        'hamming': ls.hamming,\n",
    "        'euclidean': ls.euclidean,\n",
    "        'pearson': ls.pearson,\n",
    "        'pearson_bin': ls.pearson_bin,\n",
    "        'mean_col_corr': ls.mean_col_corr,\n",
    "        'singular': ls.singular\n",
    "    },\n",
    "    'cell_correlations': ls.cells_correlation,\n",
    "    'jacobian_analysis': {\n",
    "        'jacobians': jacobian_analyzer.jacobians,\n",
    "        'eigenvalues': jacobian_analyzer.eigenvalues,\n",
    "        'eigenvector_analysis': df_eigenvalues_combined\n",
    "    },\n",
    "    'attractor_analysis': attractor_results,\n",
    "    'stability_analysis': stability_results,\n",
    "    'trajectories': trajectories,\n",
    "    'energy_evolutions': energy_evolutions,\n",
    "    'centrality_analysis': {\n",
    "        'centrality_results': centrality_results,\n",
    "        'expression_centrality_correlation': expression_centrality_corr\n",
    "    },\n",
    "    'energy_landscape': {\n",
    "        'energy_minima': energy_minima,\n",
    "        'barrier_analysis': barrier_analysis\n",
    "    }\n",
    "}\n",
    "\n",
    "print(\"=\" * 80)\n",
    "print(\"FINAL COMPREHENSIVE ANALYSIS SUMMARY\")\n",
    "print(\"=\" * 80)\n",
    "\n",
    "print(f\"Dataset: {name}\")\n",
    "print(f\"Total cells: {ls.adata.n_obs:,}\")\n",
    "print(f\"Dynamic genes: {len(ls.genes)}\")\n",
    "print(f\"Cell types: {len(order)} ({', '.join(order)})\")\n",
    "\n",
    "print(f\"\\nCore Analysis:\")\n",
    "print(f\"  Interaction matrices: {len(ls.W)}\")\n",
    "print(f\"  Energy calculations: {len(ls.E)} clusters\")\n",
    "print(f\"  Network correlation metrics: {len(final_results['network_correlations'])}\")\n",
    "\n",
    "print(f\"\\nAdvanced Analysis:\")\n",
    "print(f\"  Jacobian analysis: {jacobian_analyzer.jacobians.shape[0]:,} cells\")\n",
    "print(f\"  Attractor analysis: {sum(len(v['fixed_points']) + len(v['limit_cycles']) + len(v['other_attractors']) for v in attractor_results.values())} attractors\")\n",
    "print(f\"  Network centrality: {len(centrality_results)} clusters\")\n",
    "print(f\"  Energy minima: {len(energy_minima)} clusters\")\n",
    "print(f\"  Barrier analysis: {len(barrier_analysis)} barriers\")\n",
    "\n",
    "print(\"\\n\" + \"=\" * 80)\n",
    "print(\"ANALYSIS COMPLETED SUCCESSFULLY\")\n",
    "print(\"=\" * 80)"
   ]
  }
 ],
 "metadata": {
  "kernelspec": {
   "display_name": "Python 3",
   "language": "python",
   "name": "python3"
  },
  "language_info": {
   "codemirror_mode": {
    "name": "ipython",
    "version": 3
   },
   "file_extension": ".py",
   "mimetype": "text/x-python",
   "name": "python",
   "nbconvert_exporter": "python",
   "pygments_lexer": "ipython3",
   "version": "3.8.0"
  }
 },
 "nbformat": 4,
 "nbformat_minor": 4
}